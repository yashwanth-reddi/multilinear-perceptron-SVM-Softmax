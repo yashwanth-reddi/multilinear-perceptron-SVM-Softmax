{
  "cells": [
    {
      "cell_type": "code",
      "execution_count": 1,
      "metadata": {
        "colab": {
          "base_uri": "https://localhost:8080/"
        },
        "id": "FeSQKPvfxWh2",
        "outputId": "4322e235-ebde-416e-ba10-6f13b0f9ad8c"
      },
      "outputs": [
        {
          "output_type": "stream",
          "name": "stdout",
          "text": [
            "Drive already mounted at /content/drive; to attempt to forcibly remount, call drive.mount(\"/content/drive\", force_remount=True).\n"
          ]
        }
      ],
      "source": [
        "from google.colab import drive\n",
        "drive.mount('/content/drive')"
      ]
    },
    {
      "cell_type": "code",
      "execution_count": 2,
      "metadata": {
        "id": "3AESt75uayN8"
      },
      "outputs": [],
      "source": [
        "\"\"\"Utility functions for saving predictions for submission to Kaggle.\"\"\"\n",
        "\n",
        "import csv\n",
        "import os\n",
        "\n",
        "import numpy as np\n",
        "\n",
        "\n",
        "def write_csv(file_path: str, y_list: np.ndarray):\n",
        "    \"\"\"Write a CSV file.\n",
        "\n",
        "    Parameters:\n",
        "        file_path: name of the file to save\n",
        "        y_list: y predictions\n",
        "    \"\"\"\n",
        "    os.makedirs(os.path.dirname(file_path), exist_ok=True)\n",
        "    solution_rows = [(\"id\", \"category\")] + [(i, y) for (i, y) in enumerate(y_list)]\n",
        "    with open(file_path, \"w\") as f:\n",
        "        writer = csv.writer(f)\n",
        "        writer.writerows(solution_rows)\n",
        "\n",
        "\n",
        "def output_submission_csv(output_file_path: str, y_test: np.ndarray):\n",
        "    \"\"\"Save predictions for Kaggle submission.\n",
        "\n",
        "    Parameters:\n",
        "        output_file_path: name of the file to save\n",
        "        y_test: y predictions\n",
        "    \"\"\"\n",
        "    write_csv(output_file_path, y_test)\n"
      ]
    },
    {
      "cell_type": "code",
      "execution_count": 3,
      "metadata": {
        "id": "LhX5dAjEaeQB"
      },
      "outputs": [],
      "source": [
        "\"\"\"Data preprocessing.\"\"\"\n",
        "\n",
        "import os\n",
        "import pickle\n",
        "from typing import Any, Tuple\n",
        "\n",
        "import numpy as np\n",
        "import pandas as pd\n",
        "from sklearn.preprocessing import LabelEncoder\n",
        "from sklearn.model_selection import train_test_split\n",
        "\n",
        "\n",
        "def load_pickle(f: str) -> Any:\n",
        "    \"\"\"Load a pickle file.\n",
        "\n",
        "    Parameters:\n",
        "        f: the pickle filename\n",
        "\n",
        "    Returns:\n",
        "        the pickled data\n",
        "    \"\"\"\n",
        "    return pickle.load(f, encoding=\"latin1\")\n",
        "\n",
        "\n",
        "def load_CIFAR_batch(filename: np.ndarray) -> Tuple[np.ndarray, np.ndarray]:\n",
        "    \"\"\"Load a single batch of cifar data.\n",
        "\n",
        "    Parameters:\n",
        "        filename: the pickle filename\n",
        "\n",
        "    Returns:\n",
        "        the data\n",
        "        the labels\n",
        "    \"\"\"\n",
        "    with open(filename, \"rb\") as f:\n",
        "        datadict = load_pickle(f)\n",
        "        X = datadict[\"data\"]\n",
        "        Y = datadict[\"labels\"]\n",
        "        X = X.reshape(10000, 3, 32, 32).transpose(0, 2, 3, 1).astype(\"float\")\n",
        "        Y = np.array(Y)\n",
        "        return X, Y\n",
        "\n",
        "\n",
        "def load_CIFAR10(ROOT: str) -> Tuple[np.ndarray, np.ndarray, np.ndarray, np.ndarray]:\n",
        "    \"\"\"Load all of cifar data.\n",
        "\n",
        "    Parameters:\n",
        "        ROOT: the root directory containing the data\n",
        "\n",
        "    Returns:\n",
        "        training data\n",
        "        training labels\n",
        "        testing data\n",
        "        testing labels\n",
        "    \"\"\"\n",
        "    xs = []\n",
        "    ys = []\n",
        "    for b in range(1, 6):\n",
        "        f = os.path.join(ROOT, \"data_batch_{}\".format(b))\n",
        "        X, Y = load_CIFAR_batch(f)\n",
        "        xs.append(X)\n",
        "        ys.append(Y)\n",
        "    Xtr = np.concatenate(xs)\n",
        "    Ytr = np.concatenate(ys)\n",
        "    Xte, Yte = load_CIFAR_batch(os.path.join(ROOT, \"test_batch\"))\n",
        "    return Xtr, Ytr, Xte, Yte\n",
        "\n",
        "\n",
        "def get_CIFAR10_data(\n",
        "    num_training: int = 49000,\n",
        "    num_validation: int = 1000,\n",
        "    num_test: int = 10000,\n",
        "    subtract_mean: bool = True,\n",
        "):\n",
        "    \"\"\"Load the CIFAR-10 dataset from disk and perform preprocessing to prepare\n",
        "    it for classifiers. These are the same steps as we used for the SVM, but\n",
        "    condensed to a single function.\n",
        "\n",
        "    Parameters:\n",
        "        num_training: number of training images\n",
        "        num_validation: number of validation images\n",
        "        num_test: number of test images\n",
        "        subtract_mean: whether or not to normalize the data\n",
        "\n",
        "    Returns:\n",
        "        the train/val/test data and labels\n",
        "    \"\"\"\n",
        "    # Load the raw CIFAR-10 data\n",
        "    cifar10_dir = os.path.join(\"/content/drive/MyDrive/CS747-assignment1/CS747-assignment1/cifar-10-python\", \"cifar-10-batches-py\")\n",
        "    X_train, y_train, X_test, y_test = load_CIFAR10(cifar10_dir)\n",
        "    # Subsample the data\n",
        "    mask = list(range(num_training, num_training + num_validation))\n",
        "    X_val = X_train[mask]\n",
        "    y_val = y_train[mask]\n",
        "    mask = list(range(num_training))\n",
        "    X_train = X_train[mask]\n",
        "    y_train = y_train[mask]\n",
        "    mask = list(range(num_test))\n",
        "    X_test = X_test[mask]\n",
        "    y_test = y_test[mask]\n",
        "\n",
        "    # Normalize the data: subtract the mean image\n",
        "    if subtract_mean:\n",
        "        mean_image = np.mean(X_train, axis=0)\n",
        "        X_train -= mean_image\n",
        "        X_val -= mean_image\n",
        "        X_test -= mean_image\n",
        "\n",
        "    # Transpose so that channels come first\n",
        "    X_train = X_train.transpose(0, 3, 1, 2).copy()\n",
        "    X_val = X_val.transpose(0, 3, 1, 2).copy()\n",
        "    X_test = X_test.transpose(0, 3, 1, 2).copy()\n",
        "\n",
        "    # Package data into a dictionary\n",
        "    return {\n",
        "        \"X_train\": X_train,\n",
        "        \"y_train\": y_train,\n",
        "        \"X_val\": X_val,\n",
        "        \"y_val\": y_val,\n",
        "        \"X_test\": X_test,\n",
        "        \"y_test\": y_test,\n",
        "    }\n"
      ]
    },
    {
      "cell_type": "code",
      "execution_count": 4,
      "metadata": {
        "id": "pOs5OrnaPIsP"
      },
      "outputs": [],
      "source": [
        "import random\n",
        "import numpy as np\n",
        "#from data_process import get_CIFAR10_data\n",
        "from scipy.spatial import distance\n",
        "\n",
        "# from models import Perceptron, SVM, Softmax\n",
        "# from kaggle_submission import output_submission_csv\n",
        "%matplotlib inline\n",
        "\n",
        "# For auto-reloading external modules\n",
        "# See http://stackoverflow.com/questions/1907993/autoreload-of-modules-in-ipython\n",
        "%load_ext autoreload\n",
        "%autoreload 2"
      ]
    },
    {
      "cell_type": "markdown",
      "metadata": {
        "id": "8FOvYs0GPIsV"
      },
      "source": [
        "# Loading CIFAR-10"
      ]
    },
    {
      "cell_type": "markdown",
      "metadata": {
        "id": "wuHIB35uPIsX"
      },
      "source": [
        "In the following cells we determine the number of images for each split and load the images.\n",
        "<br /> \n",
        "TRAIN_IMAGES + VAL_IMAGES = (0, 50000]\n",
        ", TEST_IMAGES = 10000"
      ]
    },
    {
      "cell_type": "code",
      "execution_count": 5,
      "metadata": {
        "id": "Np876o_7PIsY"
      },
      "outputs": [],
      "source": [
        "# You can change these numbers for experimentation\n",
        "# For submission we will use the default values \n",
        "TRAIN_IMAGES = 40000\n",
        "VAL_IMAGES = 10000"
      ]
    },
    {
      "cell_type": "code",
      "execution_count": 6,
      "metadata": {
        "id": "XPcoRmuLPIsa"
      },
      "outputs": [],
      "source": [
        "data = get_CIFAR10_data(TRAIN_IMAGES, VAL_IMAGES)\n",
        "X_train_CIFAR, y_train_CIFAR = data['X_train'], data['y_train']\n",
        "X_val_CIFAR, y_val_CIFAR = data['X_val'], data['y_val']\n",
        "X_test_CIFAR, y_test_CIFAR = data['X_test'], data['y_test']\n",
        "n_class_CIFAR = len(np.unique(y_test_CIFAR))"
      ]
    },
    {
      "cell_type": "markdown",
      "metadata": {
        "id": "Otk5UDfzPIsb"
      },
      "source": [
        "Convert the sets of images from dimensions of **(N, 3, 32, 32) -> (N, 3072)** where N is the number of images so that each **3x32x32** image is represented by a single vector."
      ]
    },
    {
      "cell_type": "code",
      "execution_count": 7,
      "metadata": {
        "id": "jOwybZqLPIsc"
      },
      "outputs": [],
      "source": [
        "X_train_CIFAR = np.reshape(X_train_CIFAR, (X_train_CIFAR.shape[0], -1))\n",
        "X_val_CIFAR = np.reshape(X_val_CIFAR, (X_val_CIFAR.shape[0], -1))\n",
        "X_test_CIFAR = np.reshape(X_test_CIFAR, (X_test_CIFAR.shape[0], -1))"
      ]
    },
    {
      "cell_type": "markdown",
      "metadata": {
        "id": "qrVc5naPPIsd"
      },
      "source": [
        "### Get Accuracy"
      ]
    },
    {
      "cell_type": "markdown",
      "metadata": {
        "id": "7xywSKrKPIse"
      },
      "source": [
        "This function computes how well your model performs using accuracy as a metric."
      ]
    },
    {
      "cell_type": "code",
      "execution_count": 8,
      "metadata": {
        "id": "tk_ZtQFdPIsf"
      },
      "outputs": [],
      "source": [
        "def get_acc(pred, y_test):\n",
        "    return np.sum(y_test == pred) / len(y_test) * 100"
      ]
    },
    {
      "cell_type": "markdown",
      "metadata": {
        "id": "87QaEv8xPIsg"
      },
      "source": [
        "# Perceptron"
      ]
    },
    {
      "cell_type": "markdown",
      "metadata": {
        "id": "WjXS7179PIsg"
      },
      "source": [
        "Perceptron has 2 hyperparameters that you can experiment with:\n",
        "- **Learning rate** - controls how much we change the current weights of the classifier during each update. We set it at a default value of 0.5, but you should experiment with different values. We recommend changing the learning rate by factors of 10 and observing how the performance of the classifier changes. You should also try adding a **decay** which slowly reduces the learning rate over each epoch.\n",
        "- **Number of Epochs** - An epoch is a complete iterative pass over all of the data in the dataset. During an epoch we predict a label using the classifier and then update the weights of the classifier according to the perceptron update rule for each sample in the training set. You should try different values for the number of training epochs and report your results."
      ]
    },
    {
      "cell_type": "markdown",
      "metadata": {
        "id": "ahv2iL8TPIsh"
      },
      "source": [
        "You will implement the Perceptron classifier in the **models/perceptron.py**\n",
        "\n",
        "The following code: \n",
        "- Creates an instance of the Perceptron classifier class \n",
        "- The train function of the Perceptron class is trained on the training data\n",
        "- We use the predict function to find the training accuracy as well as the testing accuracy\n"
      ]
    },
    {
      "cell_type": "markdown",
      "metadata": {
        "id": "gpUDtQvXPIsi"
      },
      "source": [
        "## Train Perceptron on CIFAR"
      ]
    },
    {
      "cell_type": "code",
      "execution_count": 9,
      "metadata": {
        "id": "71jN6sCi2Bay"
      },
      "outputs": [],
      "source": [
        "\"\"\"Perceptron model.\"\"\"\n",
        "\n",
        "import numpy as np\n",
        "\n",
        "\n",
        "from operator import add, sub\n",
        "class Perceptron:\n",
        "    def __init__(self, n_class: int, lr: float, epochs: int):\n",
        "        \"\"\"Initialize a new classifier.\n",
        "\n",
        "        Parameters:\n",
        "            n_class: the number of classes\n",
        "            lr: the learning rate\n",
        "            epochs: the number of epochs to train for\n",
        "        \"\"\"\n",
        "        self.w = None\n",
        "        self.lr = lr\n",
        "        self.epochs = epochs\n",
        "        self.n_class = n_class\n",
        "\n",
        "    def train(self, X_train: np.ndarray, y_train: np.ndarray):\n",
        "        \"\"\"Train the classifier.\n",
        "\n",
        "        Use the perceptron update rule as introduced in the Lecture.\n",
        "\n",
        "        Parameters:\n",
        "            X_train: a number array of shape (N, D) containing training data;\n",
        "                N examples with D dimensions\n",
        "            y_train: a numpy array of shape (N,) containing training labels\n",
        "        \"\"\"\n",
        "        \n",
        "        self.w = 0.001 * np.random.randn(self.n_class,X_train.shape[1])\n",
        "\n",
        "        for _ in range(self.epochs):\n",
        "          for index,row in enumerate(X_train):\n",
        "            predarray = np.dot(self.w,row)\n",
        "            predictclass = np.argmax(predarray)\n",
        "            if predictclass != y_train[index]:\n",
        "              self.w[y_train[index]] += self.lr * row\n",
        "              self.w[predictclass] -= .3 *self.lr * row \n",
        "        \n",
        "\n",
        "\n",
        "    def predict(self, X_test: np.ndarray) -> np.ndarray:\n",
        "        \"\"\"Use the trained weights to predict labels for test data points.\n",
        "\n",
        "        Parameters:\n",
        "            X_test: a numpy array of shape (N, D) containing testing data;\n",
        "                N examples with D dimensions\n",
        "\n",
        "        Returns:\n",
        "            predicted labels for the data in X_test; a 1-dimensional array of\n",
        "                length N, where each element is an integer giving the predicted\n",
        "                class.\n",
        "        \"\"\"\n",
        "        return np.argmax(np.dot(self.w, X_test.T),axis=0)\n",
        "        "
      ]
    },
    {
      "cell_type": "code",
      "execution_count": 10,
      "metadata": {
        "id": "QC0bn9Z8PIsj"
      },
      "outputs": [],
      "source": [
        "lr = 0.001\n",
        "n_epochs = 10\n",
        "\n",
        "percept_CIFAR = Perceptron(n_class_CIFAR, lr, n_epochs)\n",
        "percept_CIFAR.train(X_train_CIFAR, y_train_CIFAR)\n"
      ]
    },
    {
      "cell_type": "code",
      "execution_count": 11,
      "metadata": {
        "colab": {
          "base_uri": "https://localhost:8080/"
        },
        "id": "zBBFbGzzPIsk",
        "outputId": "c5b99077-d5a6-43ac-eafb-22c598249293"
      },
      "outputs": [
        {
          "output_type": "stream",
          "name": "stdout",
          "text": [
            "The training accuracy is given by: 37.587500\n"
          ]
        }
      ],
      "source": [
        "pred_percept = percept_CIFAR.predict(X_train_CIFAR)\n",
        "print('The training accuracy is given by: %f' % (get_acc(pred_percept, y_train_CIFAR)))"
      ]
    },
    {
      "cell_type": "markdown",
      "metadata": {
        "id": "wBHDAU7aPIsl"
      },
      "source": [
        "### Validate Perceptron on CIFAR"
      ]
    },
    {
      "cell_type": "code",
      "execution_count": 12,
      "metadata": {
        "colab": {
          "base_uri": "https://localhost:8080/"
        },
        "id": "MV2xMorZPIsn",
        "outputId": "1879c883-1ae8-4a0e-fec6-fd0fbbc62641"
      },
      "outputs": [
        {
          "output_type": "stream",
          "name": "stdout",
          "text": [
            "The validation accuracy is given by: 35.360000\n"
          ]
        }
      ],
      "source": [
        "pred_percept = percept_CIFAR.predict(X_val_CIFAR)\n",
        "print('The validation accuracy is given by: %f' % (get_acc(pred_percept, y_val_CIFAR)))"
      ]
    },
    {
      "cell_type": "markdown",
      "metadata": {
        "id": "aKVyOFlOPIsn"
      },
      "source": [
        "### Test Perceptron on CIFAR"
      ]
    },
    {
      "cell_type": "code",
      "execution_count": 13,
      "metadata": {
        "colab": {
          "base_uri": "https://localhost:8080/"
        },
        "id": "8Cp8VpkSPIso",
        "outputId": "f2d45722-053e-4441-9810-8efc33d1b8aa"
      },
      "outputs": [
        {
          "output_type": "stream",
          "name": "stdout",
          "text": [
            "The testing accuracy is given by: 35.510000\n"
          ]
        }
      ],
      "source": [
        "pred_percept = percept_CIFAR.predict(X_test_CIFAR)\n",
        "print('The testing accuracy is given by: %f' % (get_acc(pred_percept, y_test_CIFAR)))"
      ]
    },
    {
      "cell_type": "markdown",
      "metadata": {
        "id": "EOZvUfICPIso"
      },
      "source": [
        "### Perceptron_CIFAR Kaggle Submission\n",
        "\n",
        "Once you are satisfied with your solution and test accuracy, output a file to submit your test set predictions to the Kaggle for Assignment 1 CIFAR. Use the following code to do so:"
      ]
    },
    {
      "cell_type": "code",
      "execution_count": 14,
      "metadata": {
        "id": "LaucXLW8PIso"
      },
      "outputs": [],
      "source": [
        "output_submission_csv('kaggle/perceptron_submission_CIFAR.csv', percept_CIFAR.predict(X_test_CIFAR))"
      ]
    },
    {
      "cell_type": "markdown",
      "metadata": {
        "id": "yqUqT9inPIsp"
      },
      "source": [
        "# Support Vector Machines (with SGD)"
      ]
    },
    {
      "cell_type": "markdown",
      "metadata": {
        "id": "rb__bVsAPIsp"
      },
      "source": [
        "Next, you will implement a \"soft margin\" SVM. In this formulation you will maximize the margin between positive and negative training examples and penalize margin violations using a hinge loss.\n",
        "\n",
        "We will optimize the SVM loss using SGD. This means you must compute the loss function with respect to model weights. You will use this gradient to update the model weights.\n",
        "\n",
        "SVM optimized with SGD has 3 hyperparameters that you can experiment with:\n",
        "- **Learning rate** - similar to as defined above in Perceptron, this parameter scales by how much the weights are changed according to the calculated gradient update. \n",
        "- **Epochs** - similar to as defined above in Perceptron.\n",
        "- **Regularization constant** - Hyperparameter to determine the strength of regularization. In this case it is a coefficient on the term which maximizes the margin. You could try different values. The default value is set to 0.05."
      ]
    },
    {
      "cell_type": "markdown",
      "metadata": {
        "id": "7zwluPtCPIsq"
      },
      "source": [
        "You will implement the SVM using SGD in the **models/svm.py**\n",
        "\n",
        "The following code: \n",
        "- Creates an instance of the SVM classifier class \n",
        "- The train function of the SVM class is trained on the training data\n",
        "- We use the predict function to find the training accuracy as well as the testing accuracy"
      ]
    },
    {
      "cell_type": "markdown",
      "metadata": {
        "id": "Yy0eKzyHPIsq"
      },
      "source": [
        "## Train SVM on CIFAR"
      ]
    },
    {
      "cell_type": "code",
      "source": [
        "\"\"\"Support Vector Machine (SVM) model.\"\"\"\n",
        "\n",
        "import numpy as np\n",
        "\n",
        "class SVM:\n",
        "    def __init__(self, n_class: int, lr: float, epochs: int, reg_const: float):\n",
        "        \"\"\"Initialize a new classifier.\n",
        "\n",
        "        Parameters:\n",
        "            n_class: the number of classes\n",
        "            lr: the learning rate\n",
        "            epochs: the number of epochs to train for\n",
        "            reg_const: the regularization constant\n",
        "        \"\"\"\n",
        "        self.w = None  # TODO: change this\n",
        "        self.alpha = lr\n",
        "        self.epochs = epochs\n",
        "        self.reg_const = reg_const\n",
        "        self.n_class = n_class\n",
        "\n",
        "    def calc_gradient(self, X_train: np.ndarray, y_train: np.ndarray) -> np.ndarray:\n",
        "        \"\"\"Calculate gradient of the svm hinge loss.\n",
        "\n",
        "        Inputs have dimension D, there are C classes, and we operate on\n",
        "        mini-batches of N examples.\n",
        "\n",
        "        Parameters:\n",
        "            X_train: a numpy array of shape (N, D) containing a mini-batch\n",
        "                of data\n",
        "            y_train: a numpy array of shape (N,) containing training labels;\n",
        "                y[i] = c means that X[i] has label c, where 0 <= c < C\n",
        "\n",
        "        Returns:\n",
        "            the gradient with respect to weights w; an array of the same shape\n",
        "                as w\n",
        "        \"\"\"\n",
        "        # TODO: implement me\n",
        "\n",
        "        loss , Number_of_rows, Number_classes , gradient = 0 , X_train.shape[0],self.w.shape[1] , np.zeros(self.w.shape)\n",
        "        y_traintemp = y_train.astype(int)\n",
        "        output = X_train.dot(self.w)\n",
        "\n",
        "        for index,output in enumerate(output):\n",
        "          correct_outputscore = output[y_traintemp[index]]\n",
        "          gradient +=  (self.reg_const/Number_of_rows ) * self.w\n",
        "\n",
        "          for j in range(Number_classes):\n",
        "            difference = output[j]-correct_outputscore + 1\n",
        "            if j != y_traintemp[index] and difference > 0:\n",
        "              loss += max([0.0,difference])\n",
        "              gradient[:,j] -= X_train[index].T\n",
        "              gradient[:,y_traintemp[index]] += X_train[index].T\n",
        "        \n",
        "        loss /= Number_of_rows\n",
        "        gradient /= Number_of_rows\n",
        "\n",
        "        loss += self.reg_const * np.sum(self.w * self.w)\n",
        "\n",
        "        return loss,gradient\n",
        "    \n",
        "    def train(self, X_train: np.ndarray, y_train: np.ndarray):\n",
        "        \"\"\"Train the classifier.\n",
        "\n",
        "        Hint: operate on mini-batches of data for SGD.\n",
        "\n",
        "        Parameters:\n",
        "            X_train: a numpy array of shape (N, D) containing training data;\n",
        "                N examples with D dimensions\n",
        "            y_train: a numpy array of shape (N,) containing training labels\n",
        "        \"\"\"\n",
        "        # TODO: implement me\n",
        "\n",
        "        length_of_train,Dimensions = X_train.shape\n",
        "        Number_of_classes = 10\n",
        "        self.w = 0.001 * np.random.randn(Dimensions,Number_of_classes)\n",
        "\n",
        "        loss_array = []\n",
        "\n",
        "        for p in range(self.epochs):\n",
        "          if p%4 == 0: \n",
        "            self.alpha /= 100\n",
        "          loss = 0\n",
        "          arr = np.hstack((X_train,y_train.reshape(-1,1)))\n",
        "          np.random.shuffle(arr)\n",
        "          X,Y = arr[:,:-1],arr[:,-1]\n",
        "          start,end = 0,32\n",
        "\n",
        "          for i in range(int(length_of_train/32)):\n",
        "            x_batch,y_batch = X[start:end,],Y[start:end,]\n",
        "            temploss,gradient = self.calc_gradient(x_batch,y_batch)\n",
        "            loss += temploss\n",
        "            self.w += self.alpha * gradient\n",
        "            start+=32\n",
        "            end+=32\n",
        "\n",
        "          loss_array.append(loss)\n",
        "\n",
        "        return loss_array\n",
        "\n",
        "    def predict(self, X_test: np.ndarray) -> np.ndarray:\n",
        "        \"\"\"Use the trained weights to predict labels for test data points.\n",
        "\n",
        "        Parameters:\n",
        "            X_test: a numpy array of shape (N, D) containing testing data;\n",
        "                N examples with D dimensions\n",
        "\n",
        "        Returns:\n",
        "            predicted labels for the data in X_test; a 1-dimensional array of\n",
        "                length N, where each element is an integer giving the predicted\n",
        "                class.\n",
        "        \"\"\"\n",
        "        # TODO: implement me\n",
        "\n",
        "        return   np.argmax(np.dot(self.w.T,X_test.T),axis=0)\n",
        "\n",
        "\n",
        "# lr = 0.0000001\n",
        "# n_epochs = 20\n",
        "# reg_const = .001\n",
        "\n",
        "lr = 0.0001\n",
        "n_epochs = 8\n",
        "reg_const = .001\n",
        "\n",
        "svm_CIFAR = SVM(n_class_CIFAR, lr, n_epochs, reg_const)\n",
        "loss_array = svm_CIFAR.train(X_train_CIFAR, y_train_CIFAR)\n",
        "\n",
        "import matplotlib.pyplot as plt\n",
        "\n",
        "plt.plot(loss_array)\n",
        "\n",
        "# loss average with 8 epochs"
      ],
      "metadata": {
        "colab": {
          "base_uri": "https://localhost:8080/",
          "height": 283
        },
        "id": "P59ZBNfVP_sc",
        "outputId": "f75ccadc-2938-4f73-bebb-eadc6468d9c1"
      },
      "execution_count": 15,
      "outputs": [
        {
          "output_type": "execute_result",
          "data": {
            "text/plain": [
              "[<matplotlib.lines.Line2D at 0x7fa41ccf4bb0>]"
            ]
          },
          "metadata": {},
          "execution_count": 15
        },
        {
          "output_type": "display_data",
          "data": {
            "text/plain": [
              "<Figure size 432x288 with 1 Axes>"
            ],
            "image/png": "[encoded data removed]"
          },
          "metadata": {
            "needs_background": "light"
          }
        }
      ]
    },
    {
      "cell_type": "code",
      "execution_count": 16,
      "metadata": {
        "colab": {
          "base_uri": "https://localhost:8080/"
        },
        "id": "tiO3pMsUPIsr",
        "outputId": "bc5ad522-5e03-4956-a0b9-673011331b12"
      },
      "outputs": [
        {
          "output_type": "stream",
          "name": "stdout",
          "text": [
            "The training accuracy is given by: 40.807500\n"
          ]
        }
      ],
      "source": [
        "pred_svm = svm_CIFAR.predict(X_train_CIFAR)\n",
        "print('The training accuracy is given by: %f' % (get_acc(pred_svm, y_train_CIFAR)))"
      ]
    },
    {
      "cell_type": "markdown",
      "metadata": {
        "id": "c0t0auHiPIsr"
      },
      "source": [
        "### Validate SVM on CIFAR"
      ]
    },
    {
      "cell_type": "code",
      "execution_count": 17,
      "metadata": {
        "colab": {
          "base_uri": "https://localhost:8080/"
        },
        "id": "AHM1b7rNPIsr",
        "outputId": "16d0040e-e94e-4fcb-fd67-f6b0951bf0a0"
      },
      "outputs": [
        {
          "output_type": "stream",
          "name": "stdout",
          "text": [
            "The validation accuracy is given by: 36.460000\n"
          ]
        }
      ],
      "source": [
        "pred_svm = svm_CIFAR.predict(X_val_CIFAR)\n",
        "print('The validation accuracy is given by: %f' % (get_acc(pred_svm, y_val_CIFAR)))"
      ]
    },
    {
      "cell_type": "markdown",
      "metadata": {
        "id": "tqGmh8CkPIss"
      },
      "source": [
        "### Test SVM on CIFAR"
      ]
    },
    {
      "cell_type": "code",
      "execution_count": 18,
      "metadata": {
        "colab": {
          "base_uri": "https://localhost:8080/"
        },
        "id": "TrDM8q8APIss",
        "outputId": "b1f74216-c2e1-462a-fa80-4fbe7c950304"
      },
      "outputs": [
        {
          "output_type": "stream",
          "name": "stdout",
          "text": [
            "The testing accuracy is given by: 35.630000\n"
          ]
        }
      ],
      "source": [
        "pred_svm = svm_CIFAR.predict(X_test_CIFAR)\n",
        "print('The testing accuracy is given by: %f' % (get_acc(pred_svm, y_test_CIFAR)))"
      ]
    },
    {
      "cell_type": "markdown",
      "metadata": {
        "id": "3uQUPCX7PIss"
      },
      "source": [
        "### SVM_CIFAR Kaggle Submission\n",
        "\n",
        "Once you are satisfied with your solution and test accuracy output a file to submit your test set predictions to the Kaggle for Assignment 1 CIFAR. Use the following code to do so:"
      ]
    },
    {
      "cell_type": "code",
      "execution_count": 19,
      "metadata": {
        "id": "9SJ74yEaPIss"
      },
      "outputs": [],
      "source": [
        "output_submission_csv('kaggle/svm_submission_CIFAR.csv', svm_CIFAR.predict(X_test_CIFAR))"
      ]
    },
    {
      "cell_type": "markdown",
      "metadata": {
        "id": "kpe_KrlpPIst"
      },
      "source": [
        "# Softmax Classifier (with SGD)"
      ]
    },
    {
      "cell_type": "markdown",
      "metadata": {
        "collapsed": true,
        "id": "oHKm9wh7PIst"
      },
      "source": [
        "Next, you will train a Softmax classifier. This classifier consists of a linear function of the input data followed by a softmax function which outputs a vector of dimension C (number of classes) for each data point. Each entry of the softmax output vector corresponds to a confidence in one of the C classes, and like a probability distribution, the entries of the output vector sum to 1. We use a cross-entropy loss on this sotmax output to train the model. \n",
        "\n",
        "Check the following link as an additional resource on softmax classification: http://cs231n.github.io/linear-classify/#softmax\n",
        "\n",
        "Once again we will train the classifier with SGD. This means you need to compute the gradients of the softmax cross-entropy loss function according to the weights and update the weights using this gradient. Check the following link to help with implementing the gradient updates: https://deepnotes.io/softmax-crossentropy"
      ]
    },
    {
      "cell_type": "markdown",
      "metadata": {
        "id": "N21mDPKmPIsu"
      },
      "source": [
        "The softmax classifier has 3 hyperparameters that you can experiment with:\n",
        "- **Learning rate** - As above, this controls how much the model weights are updated with respect to their gradient.\n",
        "- **Number of Epochs** - As described for perceptron.\n",
        "- **Regularization constant** - Hyperparameter to determine the strength of regularization. In this case, we minimize the L2 norm of the model weights as regularization, so the regularization constant is a coefficient on the L2 norm in the combined cross-entropy and regularization objective."
      ]
    },
    {
      "cell_type": "markdown",
      "metadata": {
        "id": "DK13eNjUPIsu"
      },
      "source": [
        "You will implement a softmax classifier using SGD in the **models/softmax.py**\n",
        "\n",
        "The following code: \n",
        "- Creates an instance of the Softmax classifier class \n",
        "- The train function of the Softmax class is trained on the training data\n",
        "- We use the predict function to find the training accuracy as well as the testing accuracy"
      ]
    },
    {
      "cell_type": "markdown",
      "metadata": {
        "id": "xd38SUTWPIsv"
      },
      "source": [
        "## Train Softmax on CIFAR"
      ]
    },
    {
      "cell_type": "code",
      "source": [
        "\"\"\"Softmax model.\"\"\"\n",
        "\n",
        "import numpy as np\n",
        "\n",
        "class Softmax:\n",
        "    def __init__(self, n_class: int, lr: float, epochs: int, reg_const: float):\n",
        "        \"\"\"Initialize a new classifier.\n",
        "\n",
        "        Parameters:\n",
        "            n_class: the number of classes\n",
        "            lr: the learning rate\n",
        "            epochs: the number of epochs to train for\n",
        "            reg_const: the regularization constant\n",
        "        \"\"\"\n",
        "        self.w = None  # TODO: change this\n",
        "        self.lr = lr\n",
        "        self.epochs = epochs\n",
        "        self.reg_const = reg_const\n",
        "        self.n_class = n_class\n",
        "     \n",
        "    def calc_gradient(self, X_train: np.ndarray, y_train: np.ndarray) -> np.ndarray:\n",
        "        \"\"\"Calculate gradient of the softmax loss.\n",
        "\n",
        "        Inputs have dimension D, there are C classes, and we operate on\n",
        "        mini-batches of N examples.\n",
        "\n",
        "        Parameters:\n",
        "            X_train: a numpy array of shape (N, D) containing a mini-batch\n",
        "                of data\n",
        "            y_train: a numpy array of shape (N,) containing training labels;\n",
        "                y[i] = c means that X[i] has label c, where 0 <= c < C\n",
        "\n",
        "        Returns:\n",
        "            gradient with respect to weights w; an array of same shape as w\n",
        "        \"\"\"\n",
        "        # TODO: implement me\n",
        "\n",
        "        y_train = y_train.astype(int)\n",
        "\n",
        "        loss , Number_of_rows, Number_classes , gradient = 0 , X_train.shape[0],self.w.shape[1] , np.zeros(self.w.shape)\n",
        "        y_traintemp = y_train.astype(int)\n",
        "\n",
        "        output = X_train.dot(self.w)\n",
        "\n",
        "        for index,row in enumerate(output):\n",
        "          row -= max(row)\n",
        "          probability = np.exp(row)/np.sum(np.exp(row))\n",
        "          loss += -np.log(probability[int(y_train[index])])\n",
        "          probability[int(y_train[index])] -= 1\n",
        "          gradient += np.dot(X_train[index].reshape(-1,1),probability.reshape(-1,1).reshape(1,-1)) \n",
        "        \n",
        "        loss /= Number_of_rows\n",
        "        gradient /= Number_of_rows\n",
        "\n",
        "        loss += self.reg_const * np.sum(self.w * self.w)\n",
        "        \n",
        "        return loss,gradient\n",
        "    \n",
        "        \n",
        "    def train(self, X_train: np.ndarray, y_train: np.ndarray):\n",
        "        \"\"\"Train the classifier.\n",
        "\n",
        "        Hint: operate on mini-batches of data for SGD.\n",
        "\n",
        "        Parameters:\n",
        "            X_train: a numpy array of shape (N, D) containing training data;\n",
        "                N examples with D dimensions\n",
        "            y_train: a numpy array of shape (N,) containing training labels\n",
        "        \"\"\"\n",
        "        # TODO: implement me\n",
        "\n",
        "        length_of_train,Dimensions = X_train.shape\n",
        "        Number_of_classes = 10\n",
        "        self.w = 0.001 * np.random.randn(Dimensions,Number_of_classes)\n",
        "\n",
        "        loss_array = []\n",
        "\n",
        "        for p in range(self.epochs):\n",
        "          if p%4 == 0: \n",
        "            self.lr /= 100\n",
        "          loss = 0\n",
        "\n",
        "          arr = np.hstack((X_train,y_train.reshape(-1,1)))\n",
        "          np.random.shuffle(arr)\n",
        "          X,Y = arr[:,:-1],arr[:,-1]\n",
        "          start,end = 0,32\n",
        "\n",
        "          for i in range(int(length_of_train/32)):\n",
        "            x_batch,y_batch = X[start:end,],Y[start:end,]\n",
        "            temploss,gradient = self.calc_gradient(x_batch,y_batch)\n",
        "            loss+=temploss\n",
        "            self.w -= self.lr * gradient\n",
        "            start+=32\n",
        "            end+=32\n",
        "          loss_array.append(loss)\n",
        "        return loss_array\n",
        "\n",
        "    def predict(self, X_test: np.ndarray) -> np.ndarray:\n",
        "        \"\"\"Use the trained weights to predict labels for test data points.\n",
        "\n",
        "        Parameters:\n",
        "            X_test: a numpy array of shape (N, D) containing testing data;\n",
        "                N examples with D dimensions\n",
        "\n",
        "        Returns:\n",
        "            predicted labels for the data in X_test; a 1-dimensional array of\n",
        "                length N, where each element is an integer giving the predicted\n",
        "                class.\n",
        "        \"\"\"\n",
        "        # TODO: implement me\n",
        "\n",
        "        return np.argmax(np.dot(self.w.T,X_test.T),axis=0)\n"
      ],
      "metadata": {
        "id": "xjTA9B2OQXvV"
      },
      "execution_count": 20,
      "outputs": []
    },
    {
      "cell_type": "code",
      "execution_count": 21,
      "metadata": {
        "id": "q8cv2Oc1PIsv",
        "colab": {
          "base_uri": "https://localhost:8080/",
          "height": 283
        },
        "outputId": "59c2e6eb-8d75-42aa-8436-ed3913954e3e"
      },
      "outputs": [
        {
          "output_type": "execute_result",
          "data": {
            "text/plain": [
              "[<matplotlib.lines.Line2D at 0x7fa40e182730>]"
            ]
          },
          "metadata": {},
          "execution_count": 21
        },
        {
          "output_type": "display_data",
          "data": {
            "text/plain": [
              "<Figure size 432x288 with 1 Axes>"
            ],
            "image/png": "[encoded data removed]"
          },
          "metadata": {
            "needs_background": "light"
          }
        }
      ],
      "source": [
        "import matplotlib.pyplot as plt\n",
        "\n",
        "lr = 0.0001\n",
        "n_epochs = 12\n",
        "reg_const = 0.001\n",
        "\n",
        "softmax_CIFAR = Softmax(n_class_CIFAR, lr, n_epochs, reg_const)\n",
        "l = softmax_CIFAR.train(X_train_CIFAR, y_train_CIFAR)\n",
        "\n",
        "plt.plot(l)\n",
        "\n",
        "\n",
        "# loss average with 8 epochs"
      ]
    },
    {
      "cell_type": "code",
      "execution_count": 22,
      "metadata": {
        "id": "jpuzSVCuPIsw",
        "colab": {
          "base_uri": "https://localhost:8080/"
        },
        "outputId": "ae6a3543-bfb7-4769-d08f-bc96c388dcc0"
      },
      "outputs": [
        {
          "output_type": "stream",
          "name": "stdout",
          "text": [
            "The training accuracy is given by: 40.685000\n"
          ]
        }
      ],
      "source": [
        "pred_softmax = softmax_CIFAR.predict(X_train_CIFAR)\n",
        "print('The training accuracy is given by: %f' % (get_acc(pred_softmax, y_train_CIFAR)))"
      ]
    },
    {
      "cell_type": "markdown",
      "metadata": {
        "id": "ybZ5XxESPIsw"
      },
      "source": [
        "### Validate Softmax on CIFAR"
      ]
    },
    {
      "cell_type": "code",
      "execution_count": 23,
      "metadata": {
        "id": "kkBrrJg2PIsx",
        "colab": {
          "base_uri": "https://localhost:8080/"
        },
        "outputId": "30b56579-72d2-4ffd-97f7-6a04629f18a8"
      },
      "outputs": [
        {
          "output_type": "stream",
          "name": "stdout",
          "text": [
            "The validation accuracy is given by: 36.980000\n"
          ]
        }
      ],
      "source": [
        "pred_softmax = softmax_CIFAR.predict(X_val_CIFAR)\n",
        "print('The validation accuracy is given by: %f' % (get_acc(pred_softmax, y_val_CIFAR)))"
      ]
    },
    {
      "cell_type": "markdown",
      "metadata": {
        "id": "RfBWY0sKPIsx"
      },
      "source": [
        "### Testing Softmax on CIFAR"
      ]
    },
    {
      "cell_type": "code",
      "execution_count": 24,
      "metadata": {
        "id": "Y9YZWZrPPIsy",
        "colab": {
          "base_uri": "https://localhost:8080/"
        },
        "outputId": "166fe235-2aec-453f-b3a1-7d03864c1e1f"
      },
      "outputs": [
        {
          "output_type": "stream",
          "name": "stdout",
          "text": [
            "The testing accuracy is given by: 37.370000\n"
          ]
        }
      ],
      "source": [
        "pred_softmax = softmax_CIFAR.predict(X_test_CIFAR)\n",
        "print('The testing accuracy is given by: %f' % (get_acc(pred_softmax, y_test_CIFAR)))"
      ]
    },
    {
      "cell_type": "markdown",
      "metadata": {
        "id": "aZfqbnhePIsy"
      },
      "source": [
        "### Softmax_CIFAR Kaggle Submission\n",
        "\n",
        "Once you are satisfied with your solution and test accuracy output a file to submit your test set predictions to the Kaggle for Assignment 1 CIFAR. Use the following code to do so:"
      ]
    },
    {
      "cell_type": "code",
      "execution_count": 25,
      "metadata": {
        "id": "-GIsb6Y6PIsz"
      },
      "outputs": [],
      "source": [
        "output_submission_csv('kaggle/softmax_submission_CIFAR.csv', softmax_CIFAR.predict(X_test_CIFAR))"
      ]
    },
    {
      "cell_type": "code",
      "source": [],
      "metadata": {
        "id": "F1_K9HZMNZ-E"
      },
      "execution_count": 25,
      "outputs": []
    }
  ],
  "metadata": {
    "colab": {
      "collapsed_sections": [
        "87QaEv8xPIsg",
        "yqUqT9inPIsp"
      ],
      "provenance": []
    },
    "gpuClass": "standard",
    "interpreter": {
      "hash": "7b2df3d65e46e7144579e91ca5e04b28af119ed783d78dfb570448b77ef9e879"
    },
    "kernelspec": {
      "display_name": "Python 3.8.8 64-bit ('base': conda)",
      "name": "python3"
    },
    "language_info": {
      "codemirror_mode": {
        "name": "ipython",
        "version": 3
      },
      "file_extension": ".py",
      "mimetype": "text/x-python",
      "name": "python",
      "nbconvert_exporter": "python",
      "pygments_lexer": "ipython3",
      "version": "3.8.8"
    }
  },
  "nbformat": 4,
  "nbformat_minor": 0
}